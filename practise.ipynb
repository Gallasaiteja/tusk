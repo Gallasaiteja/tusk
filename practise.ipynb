{
  "nbformat": 4,
  "nbformat_minor": 0,
  "metadata": {
    "colab": {
      "name": "practise.ipynb",
      "provenance": [],
      "collapsed_sections": []
    },
    "kernelspec": {
      "name": "python3",
      "display_name": "Python 3"
    }
  },
  "cells": [
    {
      "cell_type": "code",
      "metadata": {
        "id": "7LiRWr6L_CZ5",
        "colab_type": "code",
        "outputId": "dce09fc9-0eee-443f-b809-8f2eba0987c6",
        "colab": {
          "base_uri": "https://localhost:8080/",
          "height": 68
        }
      },
      "source": [
        "current_time = input(\"enter current time now\")\n",
        "waiting_time = input(\"Enter waiting time\")\n",
        "current_time_int = int(current_time)\n",
        "waiting_time_int = int(waiting_time)\n",
        "\n",
        "hours = current_time_int + waiting_time_int\n",
        "\n",
        "total = hours % 24\n",
        "\n",
        "print(total)"
      ],
      "execution_count": 1,
      "outputs": [
        {
          "output_type": "stream",
          "text": [
            "enter current time now5\n",
            "Enter waiting time4\n",
            "9\n"
          ],
          "name": "stdout"
        }
      ]
    },
    {
      "cell_type": "code",
      "metadata": {
        "id": "AlgoYrgzDaMM",
        "colab_type": "code",
        "colab": {}
      },
      "source": [
        "All work and no play makes Jack a dull boy"
      ],
      "execution_count": 0,
      "outputs": []
    },
    {
      "cell_type": "code",
      "metadata": {
        "id": "N3nZEdTHGBqd",
        "colab_type": "code",
        "colab": {
          "base_uri": "https://localhost:8080/",
          "height": 34
        },
        "outputId": "86b8f2ea-4a21-44e3-b4dd-d611a7dbc1cb"
      },
      "source": [
        "word1 = (\"all\")\n",
        "word2 = (\"work\")\n",
        "word3 = (\"and\")\n",
        "word4 = (\"no\")\n",
        "word5 = (\"play\")\n",
        "word6 = (\"makes\")\n",
        "word7 = (\"jack\")\n",
        "word8 = (\"a\")\n",
        "word9 = (\"dull\")\n",
        "word10 = (\"boy\")\n",
        "\n",
        "print(word1 + ''+ word2 + ''+ word3 +''+ word4 +''+ word5+''+ word6+''+ word7+''+word8+''+ word9+''+ word10)"
      ],
      "execution_count": 5,
      "outputs": [
        {
          "output_type": "stream",
          "text": [
            "allworkandnoplaymakesjackadullboy\n"
          ],
          "name": "stdout"
        }
      ]
    },
    {
      "cell_type": "markdown",
      "metadata": {
        "id": "M7GHLPNhL12C",
        "colab_type": "text"
      },
      "source": [
        "Write a Python program that assigns the principal amount of 10000 to variable P, assign to n the value 12, and assign to r the interest rate of 8% (0.08). Then have the program prompt the user for the number of years, t, that the money will be compounded for. Calculate and print the final amount after t years"
      ]
    },
    {
      "cell_type": "code",
      "metadata": {
        "id": "3PyrGeIBK1kK",
        "colab_type": "code",
        "outputId": "25e9f70e-f576-471b-fbca-42251d8cab8a",
        "colab": {
          "base_uri": "https://localhost:8080/",
          "height": 51
        }
      },
      "source": [
        "#import math()\n",
        "P = 10000\n",
        "n = 12\n",
        "r = 0.08\n",
        "t= int(input(\" the number of years\"))\n",
        "\n",
        "final = P * ( ((1 + (r/n)) ** (n * t)) )\n",
        "\n",
        "# first = int(p)\n",
        "# second = int[1+(r/n)]\n",
        "# thirt = int(second **n*t)\n",
        "\n",
        "# total= (first * second * third)\n",
        "print(final)\n"
      ],
      "execution_count": 7,
      "outputs": [
        {
          "output_type": "stream",
          "text": [
            " the number of years2\n",
            "11728.879317453097\n"
          ],
          "name": "stdout"
        }
      ]
    },
    {
      "cell_type": "code",
      "metadata": {
        "id": "_YgzAyOJQW-5",
        "colab_type": "code",
        "outputId": "17f2dc72-47ff-433b-d3cf-858520bb80d7",
        "colab": {
          "base_uri": "https://localhost:8080/",
          "height": 51
        }
      },
      "source": [
        "pi = 3.14\n",
        "r = float(input(\"Enter the radius  \"))\n",
        "circle = pi * r * r\n",
        "print(circle)"
      ],
      "execution_count": 10,
      "outputs": [
        {
          "output_type": "stream",
          "text": [
            "Enter the radius  5\n",
            "78.5\n"
          ],
          "name": "stdout"
        }
      ]
    },
    {
      "cell_type": "code",
      "metadata": {
        "id": "gXP4SNyOSKOE",
        "colab_type": "code",
        "outputId": "035bb7bb-3586-4015-c955-6e363622a7e1",
        "colab": {
          "base_uri": "https://localhost:8080/",
          "height": 68
        }
      },
      "source": [
        "height = int(input(\"enter height of rectangle  \"))\n",
        "width = int(input(\"enter width of rectangle  \"))\n",
        "\n",
        "rectangle = height * width\n",
        "print(rectangle)"
      ],
      "execution_count": 11,
      "outputs": [
        {
          "output_type": "stream",
          "text": [
            "enter height of rectangle  546\n",
            "enter width of rectangle  45\n",
            "24570\n"
          ],
          "name": "stdout"
        }
      ]
    },
    {
      "cell_type": "code",
      "metadata": {
        "id": "ecge8BYgUZsW",
        "colab_type": "code",
        "outputId": "792d691e-d817-4f38-a81c-9b789fed4d8c",
        "colab": {
          "base_uri": "https://localhost:8080/",
          "height": 68
        }
      },
      "source": [
        "miles = int(input (\"enter no of miles  \"))\n",
        "gallons = int(input (\"enter no of miles  \"))\n",
        "\n",
        "\n",
        "total= miles // gallons \n",
        "print(total)"
      ],
      "execution_count": 13,
      "outputs": [
        {
          "output_type": "stream",
          "text": [
            "enter no of miles  500\n",
            "enter no of miles  15\n",
            "33\n"
          ],
          "name": "stdout"
        }
      ]
    },
    {
      "cell_type": "code",
      "metadata": {
        "id": "CZcRI6eCZQXd",
        "colab_type": "code",
        "outputId": "fae464e1-3a25-479c-f01d-fc7cfff9e81f",
        "colab": {
          "base_uri": "https://localhost:8080/",
          "height": 51
        }
      },
      "source": [
        "deg_celsius = int(input(\"Enter the temperature in celsius \"))\n",
        "\n",
        "deg_far = deg_celsius * (9 / 5) + 32\n",
        "\n",
        "print(deg_celsius, \"degree celsiud is\", deg_far, \"degree far.\")"
      ],
      "execution_count": 19,
      "outputs": [
        {
          "output_type": "stream",
          "text": [
            "Enter the temperature in celsius 9\n",
            "9 degree celsiud is 48.2 degree far.\n"
          ],
          "name": "stdout"
        }
      ]
    },
    {
      "cell_type": "code",
      "metadata": {
        "id": "mU5QMsklcBRP",
        "colab_type": "code",
        "outputId": "cbe0fb5e-3452-4f55-fd9b-1aba68d880de",
        "colab": {
          "base_uri": "https://localhost:8080/",
          "height": 51
        }
      },
      "source": [
        "deg_far = int(input(\"enter the far \"))\n",
        "\n",
        "deg_celsius = (deg_far - 32) * (5/9)\n",
        "\n",
        "print(deg_far,\"degree far is\", deg_celsius,\"degree in celsius\")"
      ],
      "execution_count": 22,
      "outputs": [
        {
          "output_type": "stream",
          "text": [
            "enter the far 100\n",
            "100 degree far is 37.77777777777778 degree in celsius\n"
          ],
          "name": "stdout"
        }
      ]
    },
    {
      "cell_type": "code",
      "metadata": {
        "id": "wux_2S_ZkTM5",
        "colab_type": "code",
        "outputId": "e9c73868-e538-4554-bad1-feb073cd51f2",
        "colab": {
          "base_uri": "https://localhost:8080/",
          "height": 68
        }
      },
      "source": [
        "rv = \"\"\"Once upon a midnight dreary, while I pondered, weak and weary,Over many a quaint and curious volume of forgotten lore,While I nodded, nearly napping, suddenly there came a tapping,As of some one gently rapping, rapping at my chamber door.'Tis some visitor, I muttered, tapping at my chamber door;Only this and nothing more.\"\"\"\n",
        "num_chars = len(rv)\n",
        "words = rv.split()\n",
        "num_words = len(words)\n",
        "print(type(rv))\n",
        "print(num_chars)\n",
        "print(num_words)\n"
      ],
      "execution_count": 28,
      "outputs": [
        {
          "output_type": "stream",
          "text": [
            "<class 'str'>\n",
            "323\n",
            "52\n"
          ],
          "name": "stdout"
        }
      ]
    },
    {
      "cell_type": "code",
      "metadata": {
        "id": "6V6VjuUc3SAk",
        "colab_type": "code",
        "outputId": "b17120c7-c106-4e7e-948e-6adb95527a6e",
        "colab": {
          "base_uri": "https://localhost:8080/",
          "height": 51
        }
      },
      "source": [
        "import math\n",
        "degrees = 180\n",
        "radius = degrees / 360.0 * 2 * math.pi\n",
        "print(radius)\n",
        "\n",
        "math.sin(radius)"
      ],
      "execution_count": 0,
      "outputs": [
        {
          "output_type": "stream",
          "text": [
            "3.141592653589793\n"
          ],
          "name": "stdout"
        },
        {
          "output_type": "execute_result",
          "data": {
            "text/plain": [
              "1.2246467991473532e-16"
            ]
          },
          "metadata": {
            "tags": []
          },
          "execution_count": 5
        }
      ]
    },
    {
      "cell_type": "code",
      "metadata": {
        "id": "ltKV2sQa4t3i",
        "colab_type": "code",
        "outputId": "9a750fa8-469b-473d-f889-51a30f96fb93",
        "colab": {
          "base_uri": "https://localhost:8080/",
          "height": 34
        }
      },
      "source": [
        "import math\n",
        "degrees = 180\n",
        "x = math.sin(degrees / 360.0 * 2 * math.pi)\n",
        "print(x)"
      ],
      "execution_count": 0,
      "outputs": [
        {
          "output_type": "stream",
          "text": [
            "1.2246467991473532e-16\n"
          ],
          "name": "stdout"
        }
      ]
    },
    {
      "cell_type": "code",
      "metadata": {
        "id": "NWLDYOp_8f6s",
        "colab_type": "code",
        "outputId": "8ba0463f-ba97-4b51-bbff-79474955aa71",
        "colab": {
          "base_uri": "https://localhost:8080/",
          "height": 34
        }
      },
      "source": [
        "import math\n",
        "degrees = 270\n",
        "x = math.exp(math.log(x+1))   # added line\n",
        "print(x)"
      ],
      "execution_count": 0,
      "outputs": [
        {
          "output_type": "stream",
          "text": [
            "2.0\n"
          ],
          "name": "stdout"
        }
      ]
    },
    {
      "cell_type": "code",
      "metadata": {
        "id": "Ds1eL8ym9rK4",
        "colab_type": "code",
        "colab": {}
      },
      "source": [
        "def countdown(n):\n",
        "  if n <= 0:\n",
        "    print(\"saiteja\")\n",
        "  else:\n",
        "    print(n)\n",
        "    countdown(n-1)\n",
        "countdown(10)\n"
      ],
      "execution_count": 0,
      "outputs": []
    },
    {
      "cell_type": "code",
      "metadata": {
        "id": "Ufms85NjUKik",
        "colab_type": "code",
        "outputId": "2d0d9b0b-4476-429e-c070-8a93d5684cc8",
        "colab": {
          "base_uri": "https://localhost:8080/",
          "height": 119
        }
      },
      "source": [
        "index = 0\n",
        "fruit = 'banana'\n",
        "while index < len(fruit):\n",
        "  letter = fruit[index]\n",
        "  print(letter)\n",
        "  index = index +1"
      ],
      "execution_count": 0,
      "outputs": [
        {
          "output_type": "stream",
          "text": [
            "b\n",
            "a\n",
            "n\n",
            "a\n",
            "n\n",
            "a\n"
          ],
          "name": "stdout"
        }
      ]
    },
    {
      "cell_type": "code",
      "metadata": {
        "id": "qf1Oc9vXSWtF",
        "colab_type": "code",
        "outputId": "507d4d74-bd5e-48b8-ed2d-101069504a23",
        "colab": {
          "base_uri": "https://localhost:8080/",
          "height": 34
        }
      },
      "source": [
        "def countdown(n):\n",
        "  while n <= 0:\n",
        "    print(n)\n",
        "    n = n-1\n",
        "  print('sai')\n",
        "countdown(2)"
      ],
      "execution_count": 0,
      "outputs": [
        {
          "output_type": "stream",
          "text": [
            "sai\n"
          ],
          "name": "stdout"
        }
      ]
    },
    {
      "cell_type": "code",
      "metadata": {
        "id": "qvhoqNarX0fb",
        "colab_type": "code",
        "outputId": "dde2257e-153f-4dcd-ad23-8c14e695301e",
        "colab": {
          "base_uri": "https://localhost:8080/",
          "height": 34
        }
      },
      "source": [
        "hai = \"hello, world\"\n",
        "new_hai = 'present' + hai[1:12]\n",
        "print(new_hai)"
      ],
      "execution_count": 0,
      "outputs": [
        {
          "output_type": "stream",
          "text": [
            "presentello, world\n"
          ],
          "name": "stdout"
        }
      ]
    },
    {
      "cell_type": "code",
      "metadata": {
        "id": "9d_W-zMmZHj9",
        "colab_type": "code",
        "outputId": "9363e347-72a4-4002-cde4-4575de596bab",
        "colab": {
          "base_uri": "https://localhost:8080/",
          "height": 34
        }
      },
      "source": [
        "word = 'banana'\n",
        "count = 0\n",
        "for letters in word:\n",
        "  if letters == 'b':\n",
        "    count = count + 1\n",
        "print(count)\n"
      ],
      "execution_count": 0,
      "outputs": [
        {
          "output_type": "stream",
          "text": [
            "1\n"
          ],
          "name": "stdout"
        }
      ]
    },
    {
      "cell_type": "code",
      "metadata": {
        "id": "l-YBHfbkatdk",
        "colab_type": "code",
        "outputId": "4d2880c0-6f5e-4e3c-f016-7ddb43a24d09",
        "colab": {
          "base_uri": "https://localhost:8080/",
          "height": 34
        }
      },
      "source": [
        "name = 'bob'\n",
        "name.find('b',1,2)"
      ],
      "execution_count": 0,
      "outputs": [
        {
          "output_type": "execute_result",
          "data": {
            "text/plain": [
              "-1"
            ]
          },
          "metadata": {
            "tags": []
          },
          "execution_count": 42
        }
      ]
    },
    {
      "cell_type": "code",
      "metadata": {
        "id": "pQvaJb6D4BnG",
        "colab_type": "code",
        "colab": {
          "base_uri": "https://localhost:8080/",
          "height": 51
        },
        "outputId": "8bb1902c-5c03-470a-c4f1-d0b3f6982579"
      },
      "source": [
        "var1 = 10\n",
        "var2 = \"hai\"\n",
        "var3 = [1,2,3,]\n",
        "print(var1)\n",
        "var5 = 20\n",
        "print(var1 >= var5)"
      ],
      "execution_count": 45,
      "outputs": [
        {
          "output_type": "stream",
          "text": [
            "10\n",
            "False\n"
          ],
          "name": "stdout"
        }
      ]
    },
    {
      "cell_type": "code",
      "metadata": {
        "id": "U4o5vQWp4puq",
        "colab_type": "code",
        "colab": {}
      },
      "source": [
        "var = "
      ],
      "execution_count": 0,
      "outputs": []
    },
    {
      "cell_type": "code",
      "metadata": {
        "id": "xqa_OBRj4Dr-",
        "colab_type": "code",
        "colab": {}
      },
      "source": [
        ""
      ],
      "execution_count": 0,
      "outputs": []
    }
  ]
}